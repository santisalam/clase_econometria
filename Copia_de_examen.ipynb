{
  "nbformat": 4,
  "nbformat_minor": 0,
  "metadata": {
    "colab": {
      "provenance": [],
      "include_colab_link": true
    },
    "kernelspec": {
      "name": "python3",
      "display_name": "Python 3"
    },
    "language_info": {
      "name": "python"
    }
  },
  "cells": [
    {
      "cell_type": "markdown",
      "metadata": {
        "id": "view-in-github",
        "colab_type": "text"
      },
      "source": [
        "<a href=\"https://colab.research.google.com/github/santisalam/clase_econometria/blob/main/Copia_de_examen.ipynb\" target=\"_parent\"><img src=\"https://colab.research.google.com/assets/colab-badge.svg\" alt=\"Open In Colab\"/></a>"
      ]
    },
    {
      "cell_type": "markdown",
      "source": [
        "INTEGRANTES JUAN PABLO, VANESSA, SANTIAGO"
      ],
      "metadata": {
        "id": "Hwg5KsPLHGyE"
      }
    },
    {
      "cell_type": "markdown",
      "source": [
        "A.Crea un programa que tome una lista de números como entrada y devuelva la suma de todos los números en la lista."
      ],
      "metadata": {
        "id": "ra0S-xFmPEQ8"
      }
    },
    {
      "cell_type": "code",
      "execution_count": null,
      "metadata": {
        "id": "uM8yOeRD3ma9"
      },
      "outputs": [],
      "source": [
        "lista=[1,2,3,4,5]"
      ]
    },
    {
      "cell_type": "code",
      "source": [
        "numeros=[1,2,3,4,5,6,7,8,9]\n",
        "suma = 0\n",
        "for x in numeros:\n",
        "      suma = suma + x"
      ],
      "metadata": {
        "id": "M35ThSOg-NSL"
      },
      "execution_count": null,
      "outputs": []
    },
    {
      "cell_type": "code",
      "source": [
        "print(sumar(lista))"
      ],
      "metadata": {
        "colab": {
          "base_uri": "https://localhost:8080/"
        },
        "id": "W_oGvwOF-wY2",
        "outputId": "e2197d28-4d8e-491e-8004-a122f6965489"
      },
      "execution_count": null,
      "outputs": [
        {
          "output_type": "stream",
          "name": "stdout",
          "text": [
            "1\n"
          ]
        }
      ]
    },
    {
      "cell_type": "markdown",
      "source": [
        "B.Escribe un programa que tome dos listas y devuelva una nueva lista que contenga todos los elementos que son comunes a ambas listas."
      ],
      "metadata": {
        "id": "0arQtzEgAVJI"
      }
    },
    {
      "cell_type": "code",
      "source": [
        "def listas(a, b):\n",
        "    lista_final = []\n",
        "    for i in a:\n",
        "        if (i not in lista_final) and (i in b):\n",
        "            lista_final.append(i)\n",
        "    return lista_final"
      ],
      "metadata": {
        "id": "z0plqichAjWb"
      },
      "execution_count": null,
      "outputs": []
    },
    {
      "cell_type": "code",
      "source": [
        ">>> lista = [1,2,3,2,4,5]\n",
        ">>> lista2 = [7,2,5,8,10]\n",
        ">>> res = listas(lista, lista2)\n",
        ">>> print(res) "
      ],
      "metadata": {
        "colab": {
          "base_uri": "https://localhost:8080/"
        },
        "id": "lC9BwgFFA4Gv",
        "outputId": "6e7b3717-c699-4187-882b-5655f48ccca2"
      },
      "execution_count": null,
      "outputs": [
        {
          "output_type": "stream",
          "name": "stdout",
          "text": [
            "[2, 5]\n"
          ]
        }
      ]
    },
    {
      "cell_type": "markdown",
      "source": [
        "C) Crea un programa que tome una lista de cadenas como entrada y devuelva la longitud de la cadena más larga en la lista"
      ],
      "metadata": {
        "id": "b5ghn2CZkWku"
      }
    },
    {
      "cell_type": "code",
      "source": [
        "def longitud_cadena_mas_larga(lista_cadenas):\n",
        "    longitud_maxima = 0\n",
        "    for cadena in lista_cadenas:\n",
        "        if len(cadena) > longitud_maxima:\n",
        "            longitud_maxima = len(cadena)\n",
        "    return longitud_maxima\n",
        "lista = ['Hola', 'bogota', 'Esto', 'Es', 'Una', 'Prueba']\n",
        "longitud_maxima = longitud_cadena_mas_larga(lista)\n",
        "print(longitud_maxima)\n"
      ],
      "metadata": {
        "colab": {
          "base_uri": "https://localhost:8080/"
        },
        "id": "nvs69JhhkbRI",
        "outputId": "9ced7107-33b0-4425-b9d0-a0b0fd9e758d"
      },
      "execution_count": null,
      "outputs": [
        {
          "output_type": "stream",
          "name": "stdout",
          "text": [
            "6\n"
          ]
        }
      ]
    },
    {
      "cell_type": "markdown",
      "source": [
        "D.Escribe un programa que tome una lista de números como entrada y devuelva una nueva lista que contenga solo los números pares \n"
      ],
      "metadata": {
        "id": "fycBG4puPAOZ"
      }
    },
    {
      "cell_type": "code",
      "source": [
        "def pares_impares(lista):\n",
        "    '''Función que recibe una lista de números enteros y devuelve dos listas ordenadas con los números impares y pares de la lista dada.\n",
        "\n",
        "    Parámetros:\n",
        "        - lista: Es una lista de números enteros.\n",
        "    Devuelve: Dos listas ordenadas con los números impares y pares de la lista dada.\n",
        "    '''"
      ],
      "metadata": {
        "id": "--iE8cwkHvPN"
      },
      "execution_count": null,
      "outputs": []
    },
    {
      "cell_type": "code",
      "source": [
        " # Definimos dos listas vacías para guardar los números pares e impares.\n",
        "pares = []\n",
        "impares = []\n",
        "    # Bucle para recorrer la lista de números.\n",
        "for i in lista:\n",
        "        # Condicional para ver si el número es par o impar.\n",
        "        if i%2 == 0:\n",
        "            # Si el resto de la división entera por 2 es 0, el número es par y se añade a la lista de pares. \n",
        "            pares.append(i)\n",
        "        else:\n",
        "            # Si el resto de la división entera por 2 no es 0, el número es impar y se añade a la lista de impares.\n",
        "            impares.append(i)\n",
        "    # Ordenamos las listas.\n",
        "pares.sort()\n",
        "impares.sort()\n",
        "    # Devolvemos las listas de pares e impares.\n",
        " print  (pares, impares)"
      ],
      "metadata": {
        "colab": {
          "base_uri": "https://localhost:8080/"
        },
        "id": "lnAuc2RUHwMl",
        "outputId": "4b3c8a6d-df43-4858-c136-f473ae532ad7"
      },
      "execution_count": null,
      "outputs": [
        {
          "output_type": "stream",
          "name": "stdout",
          "text": [
            "[2, 4, 6, 8] [1, 3, 5, 7, 9]\n"
          ]
        }
      ]
    },
    {
      "cell_type": "markdown",
      "source": [
        "E) Crea un programa que tome una lista de cadenas como entrada y devuelva una nueva lista que contenga solo las cadenas que comienzan con la letra \"a\"."
      ],
      "metadata": {
        "id": "USwPBMhxdR9N"
      }
    },
    {
      "cell_type": "code",
      "source": [
        "def strings_starting_with_a(str_list):\n",
        "    result = []\n",
        "    for s in str_list:\n",
        "        if s.startswith('a'):\n",
        "            result.append(s)\n",
        "    return result"
      ],
      "metadata": {
        "id": "SvrGJziudVtG"
      },
      "execution_count": null,
      "outputs": []
    },
    {
      "cell_type": "markdown",
      "source": [
        "F) Escribe un programa que tome un diccionario como entrada y devuelva el valor asociado con una clave dada."
      ],
      "metadata": {
        "id": "J5LTRRC4dpxj"
      }
    },
    {
      "cell_type": "code",
      "source": [
        "def get_value_by_key(dictionary, key):\n",
        "    if key in dictionary:\n",
        "        return dictionary[key]\n",
        "    else:\n",
        "        return None\n",
        "my_dict = {\"nombre\": \"Juan\", \"edad\": 30, \"ciudad\": \"Madrid\"}\n",
        "print(get_value_by_key(my_dict, \"nombre\"))  # Output: \"Juan\"\n",
        "print(get_value_by_key(my_dict, \"telefono\"))  # Output: None"
      ],
      "metadata": {
        "colab": {
          "base_uri": "https://localhost:8080/"
        },
        "id": "N7vanDKodsyD",
        "outputId": "4c9fc561-4e0b-4be4-d0f9-9642e96ae130"
      },
      "execution_count": null,
      "outputs": [
        {
          "output_type": "stream",
          "name": "stdout",
          "text": [
            "Juan\n",
            "None\n"
          ]
        }
      ]
    },
    {
      "cell_type": "markdown",
      "source": [
        "G) Crea un programa que tome una lista de diccionarios como entrada y devuelva una nueva lista que contenga solo los diccionarios que tienen una cierta clave."
      ],
      "metadata": {
        "id": "s7RET3g9eIyd"
      }
    },
    {
      "cell_type": "code",
      "source": [
        "def filter_dicts_by_key(dicts_list, key):\n",
        "    result = []\n",
        "    for d in dicts_list:\n",
        "        if key in d:\n",
        "            result.append(d)\n",
        "    return result\n",
        "my_list = [{\"nombre\": \"Juan\", \"edad\": 30}, {\"nombre\": \"María\", \"telefono\": \"555-1234\"}, {\"ciudad\": \"Madrid\", \"edad\": 25}]\n",
        "print(filter_dicts_by_key(my_list, \"nombre\"))  # Output: [{\"nombre\": \"Juan\", \"edad\": 30}, {\"nombre\": \"María\", \"telefono\": \"555-1234\"}]\n"
      ],
      "metadata": {
        "colab": {
          "base_uri": "https://localhost:8080/"
        },
        "id": "K_cmti-ieUYF",
        "outputId": "12a6f931-2ad7-45f0-d1ee-52f97a581d7d"
      },
      "execution_count": null,
      "outputs": [
        {
          "output_type": "stream",
          "name": "stdout",
          "text": [
            "[{'nombre': 'Juan', 'edad': 30}, {'nombre': 'María', 'telefono': '555-1234'}]\n"
          ]
        }
      ]
    },
    {
      "cell_type": "markdown",
      "source": [
        "H) Escribe un programa que tome un diccionario como entrada y devuelva un nuevo diccionario con las claves y los valores intercambiados."
      ],
      "metadata": {
        "id": "vhcPMQm4e2uu"
      }
    },
    {
      "cell_type": "code",
      "source": [
        "def swap_dict(dictionary):\n",
        "    return {v: k for k, v in dictionary.items()}\n",
        "my_dict = {\"nombre\": \"Juan\", \"edad\": 30, \"ciudad\": \"Madrid\"}\n",
        "\n",
        "print(swap_dict(my_dict))  # Output: {\"Juan\": \"nombre\", 30: \"edad\", \"Madrid\": \"ciudad\"}\n"
      ],
      "metadata": {
        "colab": {
          "base_uri": "https://localhost:8080/"
        },
        "id": "w8hDfpI2fA5N",
        "outputId": "62057d5d-2e39-4bae-a6d8-837b714140f4"
      },
      "execution_count": null,
      "outputs": [
        {
          "output_type": "stream",
          "name": "stdout",
          "text": [
            "{'Juan': 'nombre', 30: 'edad', 'Madrid': 'ciudad'}\n"
          ]
        }
      ]
    },
    {
      "cell_type": "markdown",
      "source": [
        "i) Crea un programa que tome dos diccionarios como entrada y devuelva un nuevo diccionario que contenga solo los pares clave-valor que son comunes a ambos diccionarios."
      ],
      "metadata": {
        "id": "KtC2QnjsgBOX"
      }
    },
    {
      "cell_type": "code",
      "source": [
        "def common_key_values(dict1, dict2):\n",
        "    common_dict = {}\n",
        "    for key in dict1.keys() & dict2.keys():\n",
        "        if dict1[key] == dict2[key]:\n",
        "            common_dict[key] = dict1[key]\n",
        "    return common_dict\n",
        "common_key_values\n"
      ],
      "metadata": {
        "colab": {
          "base_uri": "https://localhost:8080/"
        },
        "id": "fnsL8-_vgFzF",
        "outputId": "ac75aa3d-dbfb-4ce5-9227-8d1134a26869"
      },
      "execution_count": null,
      "outputs": [
        {
          "output_type": "execute_result",
          "data": {
            "text/plain": [
              "<function __main__.common_key_values(dict1, dict2)>"
            ]
          },
          "metadata": {},
          "execution_count": 18
        }
      ]
    },
    {
      "cell_type": "markdown",
      "source": [
        "j) Escribe un programa que tome un diccionario como entrada y devuelva un nuevo diccionario con las claves ordenadas alfabéticamente."
      ],
      "metadata": {
        "id": "-AcSrRfigkdO"
      }
    },
    {
      "cell_type": "code",
      "source": [
        "def ordenar_dict(diccionario):\n",
        "    return {k: diccionario[k] for k in sorted(diccionario)}\n",
        "\n",
        "# Ejemplo de uso\n",
        "mi_diccionario = {\"z\": 1, \"a\": 2, \"b\": 3}\n",
        "nuevo_diccionario = ordenar_dict(mi_diccionario)\n",
        "print(nuevo_diccionario)\n"
      ],
      "metadata": {
        "colab": {
          "base_uri": "https://localhost:8080/"
        },
        "id": "_orVdZjIiBnW",
        "outputId": "e0e64d93-a077-4aed-c0d4-08d31b0e97bd"
      },
      "execution_count": null,
      "outputs": [
        {
          "output_type": "stream",
          "name": "stdout",
          "text": [
            "{'a': 2, 'b': 3, 'z': 1}\n"
          ]
        }
      ]
    },
    {
      "cell_type": "markdown",
      "source": [
        "K.Escribe una función que tome dos números como entrada y devuelva su suma."
      ],
      "metadata": {
        "id": "63wq6KTDX6_K"
      }
    },
    {
      "cell_type": "code",
      "source": [
        "def suma_digitos_numeros(numero_1,numero_2):\n",
        "  suma_1=sum([int(c) for c in str (numero_1)])\n",
        "  suma_2=sum([int(c) for c in str (numero_2)])\n",
        "  return suma_1 + suma_2"
      ],
      "metadata": {
        "id": "SQ9bBxH3WWCf"
      },
      "execution_count": null,
      "outputs": []
    },
    {
      "cell_type": "code",
      "source": [
        "x=13\n",
        "y=16"
      ],
      "metadata": {
        "id": "t2ZgteC8YirW"
      },
      "execution_count": null,
      "outputs": []
    },
    {
      "cell_type": "code",
      "source": [
        "print(suma_digitos_numeros(x,y))"
      ],
      "metadata": {
        "colab": {
          "base_uri": "https://localhost:8080/"
        },
        "id": "IVVE9H_2YoxE",
        "outputId": "374102d3-317e-490f-8a89-cdabb5615fb5"
      },
      "execution_count": null,
      "outputs": [
        {
          "output_type": "stream",
          "name": "stdout",
          "text": [
            "11\n"
          ]
        }
      ]
    },
    {
      "cell_type": "markdown",
      "source": [
        "L) Crea una función que tome una lista de cadenas como entrada y devuelva una nueva lista que contenga solo las cadenas que son más largas que una longitud dada"
      ],
      "metadata": {
        "id": "m5e5HHhbjNNv"
      }
    },
    {
      "cell_type": "code",
      "source": [
        "def filtro_longitud(cadenas, longitud):\n",
        "    return [cadena for cadena in cadenas if len(cadena) > longitud]\n",
        "\n",
        "# Ejemplo de uso\n",
        "mi_lista = [\"hola\", \"adiós\", \"buenos días\", \"buenas tardes\"]\n",
        "nueva_lista = filtro_longitud(mi_lista, 5)\n",
        "print(nueva_lista)\n"
      ],
      "metadata": {
        "colab": {
          "base_uri": "https://localhost:8080/"
        },
        "id": "FYR6fayyjjWR",
        "outputId": "5f624c4d-7cba-413c-bf4f-b272fd4a84d0"
      },
      "execution_count": null,
      "outputs": [
        {
          "output_type": "stream",
          "name": "stdout",
          "text": [
            "['buenos días', 'buenas tardes']\n"
          ]
        }
      ]
    },
    {
      "cell_type": "markdown",
      "source": [
        "M.Escribe una función que tome una cadena como entrada y devuelva True si la cadena es un palíndromo, False en caso contrario.\n"
      ],
      "metadata": {
        "id": "Goxuywn5WILl"
      }
    },
    {
      "cell_type": "code",
      "execution_count": null,
      "metadata": {
        "id": "dSI3k1BsUnJz"
      },
      "outputs": [],
      "source": [
        "def es_palindromo(cadena):\n",
        "  posicion_izquierda=0\n",
        "  posicion_derecha=len(cadena) - 1\n",
        "  while posicion_derecha >= posicion_izquierda:\n",
        "    if not cadena[posicion_izquierda] == cadena[posicion_derecha]:\n",
        "      return False \n",
        "      posicion_izquierda += 1\n",
        "      posicion_derecha -=1"
      ]
    },
    {
      "cell_type": "markdown",
      "source": [
        "N.Crea una función que tome una lista de números como entrada y devuelva el promedio de todos los números en la lista."
      ],
      "metadata": {
        "id": "0fbK_8n1KlaN"
      }
    },
    {
      "cell_type": "code",
      "source": [
        "nums = []\n",
        "print(\"cuantos numeros ingresara\")\n",
        "n=int(input())\n",
        "i=0\n",
        "while i<n:\n",
        "  print(\"valor numero:\", i+1)\n",
        "  val=float(input())\n",
        "  nums.append(val)\n",
        "  i+=1\n",
        "  prom=sum(nums) / len(nums)\n",
        "  print(\"el primedio es:\",prom)"
      ],
      "metadata": {
        "colab": {
          "base_uri": "https://localhost:8080/"
        },
        "id": "V9m8SH_YJ08h",
        "outputId": "b6594bd9-9e52-4c42-d48c-baaffa013700"
      },
      "execution_count": null,
      "outputs": [
        {
          "output_type": "stream",
          "name": "stdout",
          "text": [
            "cuantos numeros ingresara\n",
            "2\n",
            "valor numero: 1\n",
            "5\n",
            "el primedio es: 5.0\n",
            "valor numero: 2\n",
            "7\n",
            "el primedio es: 6.0\n"
          ]
        }
      ]
    },
    {
      "cell_type": "markdown",
      "source": [
        "O) Escribe una función que tome un diccionario como entrada y devuelva una lista de todas las claves en el diccionario."
      ],
      "metadata": {
        "id": "xRih9AxrjoUm"
      }
    },
    {
      "cell_type": "code",
      "source": [
        "def obtener_claves(diccionario):\n",
        "    return list(diccionario.keys())\n",
        "\n",
        "# Ejemplo de uso\n",
        "mi_diccionario = {\"e\": 1, \"f\": 2, \"g\": 3}\n",
        "lista_de_claves = obtener_claves(mi_diccionario)\n",
        "print(lista_de_claves)\n"
      ],
      "metadata": {
        "colab": {
          "base_uri": "https://localhost:8080/"
        },
        "id": "sW5PwchQjvNe",
        "outputId": "a7933dc2-4e1c-41bf-e2a6-46b4009aae49"
      },
      "execution_count": null,
      "outputs": [
        {
          "output_type": "stream",
          "name": "stdout",
          "text": [
            "['e', 'f', 'g']\n"
          ]
        }
      ]
    },
    {
      "cell_type": "markdown",
      "source": [
        "P.Escribe un programa que tome una lista de números como entrada y devuelva el valor máximo en la lista"
      ],
      "metadata": {
        "id": "vrtT2KVyLmja"
      }
    },
    {
      "cell_type": "code",
      "source": [
        "numb=[2,1,7,2,4,]"
      ],
      "metadata": {
        "id": "ukOQCdCkLX99"
      },
      "execution_count": null,
      "outputs": []
    },
    {
      "cell_type": "code",
      "source": [
        "def mayor(numb):\n",
        "  max=lista[0]\n",
        "  for x in numb:\n",
        "    if x > max:\n",
        "      max=x\n",
        "      return max\n"
      ],
      "metadata": {
        "id": "dVieZpY9NIox"
      },
      "execution_count": null,
      "outputs": []
    },
    {
      "cell_type": "code",
      "source": [
        "def main(numb):\n",
        "  print(\"la lista es \",lista)\n",
        "  print(\"el numero mayor es\",mayor(numb))\n",
        " "
      ],
      "metadata": {
        "id": "iIQb4iYAN2Sn"
      },
      "execution_count": null,
      "outputs": []
    },
    {
      "cell_type": "code",
      "source": [
        "main(numb)"
      ],
      "metadata": {
        "colab": {
          "base_uri": "https://localhost:8080/"
        },
        "id": "tbYw7SnGOeut",
        "outputId": "ca2a17ca-6c88-4273-ceb2-6be4474464cb"
      },
      "execution_count": null,
      "outputs": [
        {
          "output_type": "stream",
          "name": "stdout",
          "text": [
            "la lista es  [2, 1, 7, 2, 4, 23]\n",
            "el numero mayor es 7\n"
          ]
        }
      ]
    },
    {
      "cell_type": "markdown",
      "source": [
        "Q.Crea un programa que tome una cadena como entrada y devuelva una nueva cadena que contenga solo las vocales en la cadena original."
      ],
      "metadata": {
        "id": "rJLep9_5b7KK"
      }
    },
    {
      "cell_type": "code",
      "source": [
        "from re import U\n",
        "def obtener_vocales(frase):\n",
        "  vocales=A,E,I,O,U,a,e,i,o,U\n",
        "  return[c for c in frase if c in vocales]\n",
        "  texto=\"python es genial\"\n",
        "  print(obtener_vocales(texto))\n",
        "  print(len(obtener_vocales(texto)))"
      ],
      "metadata": {
        "id": "EDA0So93Y2-Y"
      },
      "execution_count": null,
      "outputs": []
    },
    {
      "cell_type": "markdown",
      "source": [
        "\n",
        "R.Escribe un programa que tome una lista de números como entrada y devuelva una nueva lista que contenga los valores al cuadrado de cada número en la lista original.\n",
        "\n"
      ],
      "metadata": {
        "id": "sBjXTztOgOgJ"
      }
    },
    {
      "cell_type": "code",
      "source": [
        "def cuadrados(lista):\n",
        "  lista_cuadrados= []\n",
        "  for numero in lista:\n",
        "    cuadrado=numero**2\n",
        "    lista_cuadrados.append(cuadrado)\n",
        "    return lista_cuadrados\n",
        "\n"
      ],
      "metadata": {
        "id": "TW5w6dL4fgYn"
      },
      "execution_count": null,
      "outputs": []
    },
    {
      "cell_type": "markdown",
      "source": [
        "S.Crea un programa que tome una cadena como entrada y devuelva una nueva cadena con los caracteres en orden inverso."
      ],
      "metadata": {
        "id": "I62O5ngheew7"
      }
    },
    {
      "cell_type": "code",
      "source": [
        "cadena=\"python\"\n",
        "for i in range(0,len(cadena),-1,):\n",
        "  print(cadena[i],end=\"\")\n",
        "  "
      ],
      "metadata": {
        "id": "PAkVYnIFdAiW"
      },
      "execution_count": null,
      "outputs": []
    },
    {
      "cell_type": "code",
      "source": [
        "print(cadena[:])"
      ],
      "metadata": {
        "colab": {
          "base_uri": "https://localhost:8080/"
        },
        "id": "81xu8TqwfM9H",
        "outputId": "274b3b51-e24b-448e-9926-1b514028983b"
      },
      "execution_count": null,
      "outputs": [
        {
          "output_type": "stream",
          "name": "stdout",
          "text": [
            "python\n"
          ]
        }
      ]
    },
    {
      "cell_type": "markdown",
      "source": [
        "T) Escribe un programa que tome una lista de cadenas como entrada y devuelva una nueva lista que contenga la longitud de cada cadena en la lista original."
      ],
      "metadata": {
        "id": "d-wDYRMRj77o"
      }
    },
    {
      "cell_type": "code",
      "source": [
        "def obtener_longitudes(cadenas):\n",
        "    return [len(cadena) for cadena in cadenas]\n",
        "\n",
        "# Ejemplo de uso\n",
        "mi_lista = [\"hola\", \"mundo\", \"buenos días\"]\n",
        "longitudes = obtener_longitudes(mi_lista)\n",
        "print(longitudes)\n"
      ],
      "metadata": {
        "colab": {
          "base_uri": "https://localhost:8080/"
        },
        "id": "kngMB6Trj_FY",
        "outputId": "88aae953-ddb2-4ec0-ba6c-7015c714d819"
      },
      "execution_count": null,
      "outputs": [
        {
          "output_type": "stream",
          "name": "stdout",
          "text": [
            "[4, 5, 11]\n"
          ]
        }
      ]
    }
  ]
}